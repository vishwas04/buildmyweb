{
 "cells": [
  {
   "cell_type": "code",
   "execution_count": 1,
   "metadata": {},
   "outputs": [],
   "source": [
    "import pandas as pd\n",
    "import numpy as np\n",
    "from sklearn.svm import SVR\n",
    "from sklearn.pipeline import make_pipeline\n",
    "from sklearn.preprocessing import StandardScaler\n",
    "from sklearn import linear_model"
   ]
  },
  {
   "cell_type": "code",
   "execution_count": 2,
   "metadata": {},
   "outputs": [],
   "source": [
    "output=pd.read_csv(\"submission.csv\")"
   ]
  },
  {
   "cell_type": "code",
   "execution_count": 3,
   "metadata": {},
   "outputs": [],
   "source": [
    "training_data = pd.read_csv('train.csv')\n",
    "test_data=pd.read_csv('test.csv')\n",
    "X=training_data\n",
    "X=X.drop(['Close'], axis = 1)\n",
    "X=X.drop(['Date'], axis = 1)\n",
    "\n",
    "y=training_data['Close']\n",
    "\n",
    "m=len(y)\n",
    "\n",
    "X_test=test_data\n",
    "X_test=X_test.drop(['Close'], axis = 1)\n",
    "X_test=X_test.drop(['Date'], axis = 1)\n",
    "\n",
    "\n",
    "\n"
   ]
  },
  {
   "cell_type": "code",
   "execution_count": 4,
   "metadata": {},
   "outputs": [
    {
     "data": {
      "text/html": [
       "<div>\n",
       "<style scoped>\n",
       "    .dataframe tbody tr th:only-of-type {\n",
       "        vertical-align: middle;\n",
       "    }\n",
       "\n",
       "    .dataframe tbody tr th {\n",
       "        vertical-align: top;\n",
       "    }\n",
       "\n",
       "    .dataframe thead th {\n",
       "        text-align: right;\n",
       "    }\n",
       "</style>\n",
       "<table border=\"1\" class=\"dataframe\">\n",
       "  <thead>\n",
       "    <tr style=\"text-align: right;\">\n",
       "      <th></th>\n",
       "      <th>0</th>\n",
       "      <th>1</th>\n",
       "      <th>2</th>\n",
       "      <th>3</th>\n",
       "      <th>4</th>\n",
       "      <th>5</th>\n",
       "      <th>6</th>\n",
       "      <th>7</th>\n",
       "      <th>8</th>\n",
       "      <th>9</th>\n",
       "      <th>...</th>\n",
       "      <th>1490</th>\n",
       "      <th>1491</th>\n",
       "      <th>1492</th>\n",
       "      <th>1493</th>\n",
       "      <th>1494</th>\n",
       "      <th>1495</th>\n",
       "      <th>1496</th>\n",
       "      <th>1497</th>\n",
       "      <th>1498</th>\n",
       "      <th>1499</th>\n",
       "    </tr>\n",
       "  </thead>\n",
       "  <tbody>\n",
       "    <tr>\n",
       "      <th>Close</th>\n",
       "      <td>58.237720</td>\n",
       "      <td>58.788651</td>\n",
       "      <td>58.485638</td>\n",
       "      <td>57.801575</td>\n",
       "      <td>56.718082</td>\n",
       "      <td>53.554852</td>\n",
       "      <td>52.342827</td>\n",
       "      <td>52.627464</td>\n",
       "      <td>55.359142</td>\n",
       "      <td>56.842045</td>\n",
       "      <td>...</td>\n",
       "      <td>297.341980</td>\n",
       "      <td>289.473785</td>\n",
       "      <td>296.862701</td>\n",
       "      <td>295.364960</td>\n",
       "      <td>298.160767</td>\n",
       "      <td>301.675507</td>\n",
       "      <td>302.534241</td>\n",
       "      <td>298.100861</td>\n",
       "      <td>294.526215</td>\n",
       "      <td>295.844238</td>\n",
       "    </tr>\n",
       "    <tr>\n",
       "      <th>Predicted close</th>\n",
       "      <td>58.058091</td>\n",
       "      <td>58.637409</td>\n",
       "      <td>58.658551</td>\n",
       "      <td>57.872730</td>\n",
       "      <td>56.434573</td>\n",
       "      <td>54.118258</td>\n",
       "      <td>52.266857</td>\n",
       "      <td>53.112991</td>\n",
       "      <td>54.175160</td>\n",
       "      <td>55.851404</td>\n",
       "      <td>...</td>\n",
       "      <td>299.749218</td>\n",
       "      <td>289.330088</td>\n",
       "      <td>296.633851</td>\n",
       "      <td>295.054424</td>\n",
       "      <td>299.761743</td>\n",
       "      <td>300.431889</td>\n",
       "      <td>302.614114</td>\n",
       "      <td>297.618485</td>\n",
       "      <td>294.326674</td>\n",
       "      <td>296.646941</td>\n",
       "    </tr>\n",
       "  </tbody>\n",
       "</table>\n",
       "<p>2 rows × 1500 columns</p>\n",
       "</div>"
      ],
      "text/plain": [
       "                      0          1          2          3          4     \\\n",
       "Close            58.237720  58.788651  58.485638  57.801575  56.718082   \n",
       "Predicted close  58.058091  58.637409  58.658551  57.872730  56.434573   \n",
       "\n",
       "                      5          6          7          8          9     ...  \\\n",
       "Close            53.554852  52.342827  52.627464  55.359142  56.842045  ...   \n",
       "Predicted close  54.118258  52.266857  53.112991  54.175160  55.851404  ...   \n",
       "\n",
       "                       1490        1491        1492        1493        1494  \\\n",
       "Close            297.341980  289.473785  296.862701  295.364960  298.160767   \n",
       "Predicted close  299.749218  289.330088  296.633851  295.054424  299.761743   \n",
       "\n",
       "                       1495        1496        1497        1498        1499  \n",
       "Close            301.675507  302.534241  298.100861  294.526215  295.844238  \n",
       "Predicted close  300.431889  302.614114  297.618485  294.326674  296.646941  \n",
       "\n",
       "[2 rows x 1500 columns]"
      ]
     },
     "execution_count": 4,
     "metadata": {},
     "output_type": "execute_result"
    }
   ],
   "source": [
    "# multi linear regression model\n",
    "\n",
    "model_ols =  linear_model.LinearRegression(normalize=True)\n",
    "model_ols.fit(X,y) \n",
    "\n",
    "predictedclose = pd.DataFrame(model_ols.predict(X), columns=['Predicted close']) # Create new dataframe of column'Predicted Price'\n",
    "actualclose = pd.DataFrame(y, columns=['Close'])\n",
    "actualclose = actualclose.reset_index(drop=True) # Drop the index so that we can concat it, to create new dataframe\n",
    "df_actual_vs_predicted = pd.concat([actualclose,predictedclose],axis =1)\n",
    "df_actual_vs_predicted.T"
   ]
  },
  {
   "cell_type": "code",
   "execution_count": 5,
   "metadata": {},
   "outputs": [
    {
     "name": "stdout",
     "output_type": "stream",
     "text": [
      "[295.94068788 296.42207306 298.78281871 298.29227299 298.55801517\n",
      " 297.6807176  297.00001086 298.12968955 297.21237929 301.4327705\n",
      " 302.43547645 303.34567821 305.96812534 300.75228815 299.03340721\n",
      " 300.44339188 303.9129429  305.56922684 302.37549472 301.53427914\n",
      " 300.90273033 309.74541434 308.27245655 313.27106422 311.78852778\n",
      " 312.72702535 317.65606983 314.5329393  314.5551577  306.64351822]\n"
     ]
    }
   ],
   "source": [
    "#results of linear model\n",
    "\n",
    "price = model_ols.predict(X_test)\n",
    "print(price)\n",
    "\n",
    "#to csv file\n",
    "output=pd.read_csv(\"submission.csv\")\n",
    "output\n",
    "output['Close'] = price\n",
    "\n",
    "output.to_csv(\"multivariatewodate.csv\",index=False)\n"
   ]
  },
  {
   "cell_type": "code",
   "execution_count": 6,
   "metadata": {},
   "outputs": [
    {
     "name": "stdout",
     "output_type": "stream",
     "text": [
      "[294.77348579 296.98646632 297.55981511 298.85289402 298.69553435\n",
      " 297.86340991 297.39725289 298.08598324 297.36138029 299.472929\n",
      " 302.88787206 302.57551893 305.78552152 302.46662581 297.07848905\n",
      " 300.32187431 302.89973058 304.92038221 303.52992305 301.77835269\n",
      " 300.57837626 306.3193372  309.43741931 312.07541096 312.34590207\n",
      " 312.80705735 316.38977741 316.69513029 315.36147547 310.30830276]\n"
     ]
    }
   ],
   "source": [
    "#ridge model\n",
    "\n",
    "model_r = linear_model.Ridge(normalize= True, alpha= 0.001)\n",
    "model_r.fit(X,y)\n",
    "priceridge = model_r.predict(X_test)\n",
    "print(priceridge)\n",
    "\n",
    "#output to csv\n",
    "output=pd.read_csv(\"submission.csv\")\n",
    "output\n",
    "output['Close'] = priceridge\n",
    "output\n",
    "\n",
    "output.to_csv(\"ridgeresults.csv\",index=False)\n"
   ]
  },
  {
   "cell_type": "code",
   "execution_count": 7,
   "metadata": {},
   "outputs": [
    {
     "name": "stdout",
     "output_type": "stream",
     "text": [
      "[296.23851066 296.36437178 299.12081143 298.27324322 298.70829294\n",
      " 297.7750887  297.09993268 298.17145274 297.37394925 301.91033057\n",
      " 302.38919151 303.67424211 305.88830064 300.49069485 299.47488428\n",
      " 300.54460233 304.20876487 305.85589748 302.16453418 301.62745239\n",
      " 301.07854434 310.65354465 307.77840806 313.45602684 311.59668324\n",
      " 312.70474641 317.85002516 313.99268937 314.35949543 307.09843515]\n"
     ]
    }
   ],
   "source": [
    "# svr polynomial model\n",
    "\n",
    "model_svr_regr = make_pipeline(StandardScaler(),  SVR(kernel=\"poly\", C=100, gamma=\"auto\", degree=3, epsilon=0.1, coef0=1))\n",
    "model_svr_regr.fit(X, y)\n",
    "price_svr=model_svr_regr.predict(X_test)\n",
    "print(price_svr)\n",
    "\n",
    "output=pd.read_csv(\"submission.csv\")\n",
    "output\n",
    "output['Close'] = price_svr\n",
    "output\n",
    "\n",
    "output.to_csv(\"svrresults.csv\",index=False)"
   ]
  },
  {
   "cell_type": "markdown",
   "metadata": {},
   "source": [
    "# parameter tuning \n"
   ]
  },
  {
   "cell_type": "code",
   "execution_count": 8,
   "metadata": {},
   "outputs": [],
   "source": [
    "from sklearn.pipeline import make_pipeline\n",
    "from sklearn.preprocessing import StandardScaler\n",
    "from sklearn import linear_model\n",
    "\n",
    "from sklearn.metrics import mean_squared_error\n",
    "from sklearn.model_selection import GridSearchCV\n",
    "\n",
    "from sklearn.metrics import classification_report, confusion_matrix"
   ]
  },
  {
   "cell_type": "code",
   "execution_count": 9,
   "metadata": {},
   "outputs": [
    {
     "name": "stdout",
     "output_type": "stream",
     "text": [
      "            Open        High         Low     Volume\n",
      "0      57.484790   58.398406   57.342469  171718000\n",
      "1      58.274453   59.013611   58.026536  163538800\n",
      "2      58.453501   58.917197   58.260678  138242800\n",
      "3      58.301997   58.494820   57.650069  193146000\n",
      "4      57.374601   57.498558   56.249794  274006400\n",
      "...          ...         ...         ...        ...\n",
      "1495  299.658540  301.995035  298.400415   71447400\n",
      "1496  301.096392  304.211720  299.958083   72434100\n",
      "1497  302.793811  302.973565  295.664509  104818600\n",
      "1498  294.186727  298.500271  289.653510  118931200\n",
      "1499  293.947087  297.661523  293.727415   56699500\n",
      "\n",
      "[1500 rows x 4 columns]\n"
     ]
    }
   ],
   "source": [
    "training_data1 = pd.read_csv('train.csv')\n",
    "\n",
    "target_data1 = training_data1['Close']\n",
    "\n",
    "training_data1 = training_data1.drop(['Close'],axis=1)\n",
    "training_data1 = training_data1.drop(['Date'],axis=1)\n",
    "print(training_data1)\n",
    "\n"
   ]
  },
  {
   "cell_type": "code",
   "execution_count": 10,
   "metadata": {},
   "outputs": [
    {
     "name": "stdout",
     "output_type": "stream",
     "text": [
      "        Open       High        Low     Volume\n",
      "0  57.484790  58.398406  57.342469  171718000\n",
      "1  58.274453  59.013611  58.026536  163538800\n",
      "2  58.453501  58.917197  58.260678  138242800\n",
      "3  58.301997  58.494820  57.650069  193146000\n",
      "4  57.374601  57.498558  56.249794  274006400 \n",
      "\n",
      " 0    58.237720\n",
      "1    58.788651\n",
      "2    58.485638\n",
      "3    57.801575\n",
      "4    56.718082\n",
      "Name: Close, dtype: float64\n"
     ]
    }
   ],
   "source": [
    "#print(target_data)\n",
    "\n",
    "df_feat = training_data1\n",
    "df_target = target_data1\n",
    "\n",
    "print(df_feat.head(),\"\\n\\n\",df_target.head())"
   ]
  },
  {
   "cell_type": "code",
   "execution_count": 11,
   "metadata": {},
   "outputs": [],
   "source": [
    "from sklearn.model_selection import train_test_split\n",
    " \n",
    "X1_train, X1_test, y1_train, y1_test = train_test_split(\n",
    "                        df_feat, df_target,\n",
    "                test_size = 0.30, random_state = 101)"
   ]
  },
  {
   "cell_type": "code",
   "execution_count": 12,
   "metadata": {},
   "outputs": [],
   "source": [
    "scaler = StandardScaler()\n",
    "X1_train = scaler.fit_transform(X1_train)\n",
    "X1_test = scaler.transform(X1_test)"
   ]
  },
  {
   "cell_type": "code",
   "execution_count": 13,
   "metadata": {},
   "outputs": [
    {
     "name": "stdout",
     "output_type": "stream",
     "text": [
      "[INFO] evaluating...\n",
      "R2: 0.97\n"
     ]
    }
   ],
   "source": [
    "model = SVR()\n",
    "model.fit(X1_train, y1_train)\n",
    "#baseline without tuning\n",
    "print(\"[INFO] evaluating...\")\n",
    "print(\"R2: {:.2f}\".format(model.score(X1_test, y1_test)))"
   ]
  },
  {
   "cell_type": "code",
   "execution_count": 14,
   "metadata": {},
   "outputs": [],
   "source": [
    "\n",
    "from scipy.stats import loguniform\n",
    "model = SVR(gamma='auto')\n",
    "kernel = [ \"poly\"]\n",
    "tolerance = loguniform(1e-6, 1e-3)\n",
    "C = [1, 1.5, 2, 2.5, 3,7,7.5,8,8.5,9,9.5,10]\n",
    "coef0=[0,1]\n",
    "grid = dict(kernel=kernel, tol=tolerance, C=C,coef0=coef0)\n",
    "\n"
   ]
  },
  {
   "cell_type": "code",
   "execution_count": 15,
   "metadata": {},
   "outputs": [
    {
     "name": "stdout",
     "output_type": "stream",
     "text": [
      "[INFO] grid searching over the hyperparameters...\n",
      "[INFO] evaluating...\n",
      "R2: 1.00\n"
     ]
    }
   ],
   "source": [
    "# initialize a cross-validation fold and perform a randomized-search\n",
    "# to tune the hyperparameters\n",
    "from sklearn.model_selection import RandomizedSearchCV\n",
    "from sklearn.model_selection import RepeatedKFold\n",
    "\n",
    "print(\"[INFO] grid searching over the hyperparameters...\")\n",
    "cvFold = RepeatedKFold(n_splits=10, n_repeats=3, random_state=1)\n",
    "\n",
    "\n",
    "randomSearch = RandomizedSearchCV(estimator=model, n_jobs=-1,\n",
    "\tcv=cvFold, param_distributions=grid,\n",
    "\tscoring=\"neg_mean_squared_error\")\n",
    "\n",
    "\n",
    "searchResults = randomSearch.fit(X1_train, y1_train)\n",
    "# extract the best model and evaluate it\n",
    "print(\"[INFO] evaluating...\")\n",
    "\n",
    "bestModel = searchResults.best_estimator_\n",
    "print(\"R2: {:.2f}\".format(bestModel.score(X1_test, y1_test)))"
   ]
  },
  {
   "cell_type": "code",
   "execution_count": 16,
   "metadata": {},
   "outputs": [
    {
     "data": {
      "text/plain": [
       "SVR(C=9.5, cache_size=200, coef0=1, degree=3, epsilon=0.1, gamma='auto',\n",
       "    kernel='poly', max_iter=-1, shrinking=True, tol=2.815398300637199e-05,\n",
       "    verbose=False)"
      ]
     },
     "execution_count": 16,
     "metadata": {},
     "output_type": "execute_result"
    }
   ],
   "source": [
    "bestModel\n"
   ]
  },
  {
   "cell_type": "code",
   "execution_count": 17,
   "metadata": {},
   "outputs": [
    {
     "name": "stdout",
     "output_type": "stream",
     "text": [
      "[296.39520332 296.21368318 299.3664238  298.09972857 298.64501115\n",
      " 297.6799093  296.94459298 298.16605955 297.26607712 302.32077645\n",
      " 302.18854385 303.76617401 305.89056273 300.05787231 299.81847821\n",
      " 300.51920581 304.43370007 305.98022633 301.87021448 301.52055255\n",
      " 301.11617346 311.55199106 307.35069204 313.81687846 311.34610736\n",
      " 312.59910106 318.28735532 313.04398907 313.99277187 304.98329117]\n"
     ]
    }
   ],
   "source": [
    "model_svr_regr_tune = make_pipeline(StandardScaler(),  bestModel)\n",
    "model_svr_regr_tune.fit(X, y)\n",
    "price_svr=model_svr_regr_tune.predict(X_test)\n",
    "print(price_svr)\n",
    "\n",
    "output=pd.read_csv(\"submission.csv\")\n",
    "output\n",
    "output['Close'] = price_svr\n",
    "output\n",
    "\n",
    "output.to_csv(\"svrresultsparameterstuned.csv\",index=False)"
   ]
  },
  {
   "cell_type": "code",
   "execution_count": null,
   "metadata": {},
   "outputs": [
    {
     "name": "stdout",
     "output_type": "stream",
     "text": [
      "        Open     Volume\n",
      "0  57.484790  171718000\n",
      "1  58.274453  163538800\n",
      "2  58.453501  138242800\n",
      "3  58.301997  193146000\n",
      "4  57.374601  274006400\n",
      "5  55.698867  513102000\n",
      "6  48.555217  648825200\n",
      "7  56.011063  414406400\n",
      "8  54.165469  387098400\n",
      "9  56.525265  338464400 0    58.237720\n",
      "1    58.788651\n",
      "2    58.485638\n",
      "3    57.801575\n",
      "4    56.718082\n",
      "5    53.554852\n",
      "6    52.342827\n",
      "7    52.627464\n",
      "8    55.359142\n",
      "9    56.842045\n",
      "Name: Close, dtype: float64\n"
     ]
    }
   ],
   "source": [
    "import plotly.express as px\n",
    "import plotly.graph_objects as go\n",
    "\n",
    "mesh_size = 100\n",
    "margin = 0\n",
    "\n",
    "df = pd.read_csv('train.csv')\n",
    "\n",
    "X = df[['Open', 'Volume']]\n",
    "y = df['Close']\n",
    "X=X.iloc[:10,:]\n",
    "y=y.iloc[:10,]\n",
    "\n",
    "print(X,y)\n",
    "# Condition the model on sepal width and length, predict the petal width\n",
    "model = bestModel\n",
    "model.fit(X, y)\n",
    "\n",
    "# Create a mesh grid on which we will run our model\n",
    "x_min, x_max = X.Open.min() - margin, X.Open.max() + margin\n",
    "y_min, y_max = X.Volume.min() - margin, X.Volume.max() + margin\n",
    "xrange = np.arange(x_min, x_max, mesh_size)\n",
    "yrange = np.arange(y_min, y_max, mesh_size)\n",
    "xx, yy = np.meshgrid(xrange, yrange)\n",
    "\n",
    "# Run model\n",
    "pred = model.predict(np.c_[xx.ravel(), yy.ravel()])\n",
    "pred = pred.reshape(xx.shape)\n",
    "\n",
    "# Generate the plot\n",
    "fig = px.scatter_3d(df, x='Open', y='Volume', z='Close')\n",
    "fig.update_traces(marker=dict(size=5))\n",
    "fig.add_traces(go.Surface(x=xrange, y=yrange, z=pred, name='pred_surface'))\n",
    "fig.show()"
   ]
  },
  {
   "cell_type": "code",
   "execution_count": null,
   "metadata": {},
   "outputs": [],
   "source": []
  },
  {
   "cell_type": "code",
   "execution_count": null,
   "metadata": {},
   "outputs": [],
   "source": []
  }
 ],
 "metadata": {
  "kernelspec": {
   "display_name": "Python 3 (ipykernel)",
   "language": "python",
   "name": "python3"
  },
  "language_info": {
   "codemirror_mode": {
    "name": "ipython",
    "version": 3
   },
   "file_extension": ".py",
   "mimetype": "text/x-python",
   "name": "python",
   "nbconvert_exporter": "python",
   "pygments_lexer": "ipython3",
   "version": "3.8.5"
  }
 },
 "nbformat": 4,
 "nbformat_minor": 4
}
